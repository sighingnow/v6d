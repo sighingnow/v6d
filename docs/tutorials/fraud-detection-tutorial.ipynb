{
 "cells": [
  {
   "cell_type": "code",
   "execution_count": null,
   "id": "90e5924b",
   "metadata": {},
   "outputs": [],
   "source": [
    "import os\n",
    "import pandas as pd"
   ]
  },
  {
   "cell_type": "code",
   "execution_count": null,
   "id": "e9399faa",
   "metadata": {},
   "outputs": [],
   "source": [
    "import vineyard\n",
    "vineyard.init()"
   ]
  },
  {
   "cell_type": "code",
   "execution_count": null,
   "id": "dd82a48a",
   "metadata": {},
   "outputs": [],
   "source": []
  },
  {
   "cell_type": "code",
   "execution_count": null,
   "id": "7cf112ae",
   "metadata": {},
   "outputs": [],
   "source": [
    "### Fetch raw dataset\n",
    "import vineyard\n",
    "vineyard_store = vineyard.connect(os.environ['VINEYARD_IPC_SOCKET'])"
   ]
  },
  {
   "cell_type": "code",
   "execution_count": null,
   "id": "19ea01fb",
   "metadata": {
    "scrolled": true
   },
   "outputs": [],
   "source": [
    "# read using vineyard's io driver\n",
    "dataset = vineyard.io.read(\n",
    "    table='feast-oss.fraud_tutorial.transactions',\n",
    "    columns=['src_account', 'timestamp', 'is_fraud'])\n",
    "\n",
    "dataset.head()"
   ]
  },
  {
   "cell_type": "code",
   "execution_count": null,
   "id": "f4087bcc",
   "metadata": {},
   "outputs": [],
   "source": [
    "vineyard_store.put('fraud_tutorial_transactions', dataset)"
   ]
  },
  {
   "cell_type": "code",
   "execution_count": null,
   "id": "02911853",
   "metadata": {},
   "outputs": [],
   "source": []
  },
  {
   "cell_type": "code",
   "execution_count": null,
   "id": "4504467b",
   "metadata": {},
   "outputs": [],
   "source": [
    "### Data preprocessing\n",
    "import vineyard\n",
    "vineyard_store = vineyard.connect(os.environ['VINEYARD_IPC_SOCKET'])"
   ]
  },
  {
   "cell_type": "code",
   "execution_count": null,
   "id": "934b98fe",
   "metadata": {},
   "outputs": [],
   "source": [
    "from datetime import datetime, timedelta\n",
    "\n",
    "now = datetime.now()\n",
    "two_days_ago = datetime.now() - timedelta(days=2)\n",
    "\n",
    "dataset = vineyard_store.get('fraud_tutorial_transactions', dataset)\n",
    "\n",
    "# filter\n",
    "dataset = dataset[dataset['timestamp'] >= two_days_ago.isoformat() & dataset['timestamp'] <= now]\n",
    "\n",
    "def apply_feature_rules(dataset):\n",
    "    training_data = dataset\n",
    "    training_data['user_transaction_count_7d'] = compute_7d_count(dataset)\n",
    "    training_data['credit_score'] = join_credit_score(dataset)\n",
    "    return training_data\n",
    "\n",
    "# apply feature view rules\n",
    "training_data = apply_feature_rules(dataset)\n",
    "\n",
    "training_data.head()"
   ]
  },
  {
   "cell_type": "code",
   "execution_count": null,
   "id": "6530b233",
   "metadata": {},
   "outputs": [],
   "source": [
    "vineyard_store.put('fraud_tutorial_transactions_training_data', training_data)"
   ]
  },
  {
   "cell_type": "code",
   "execution_count": null,
   "id": "85714e05",
   "metadata": {},
   "outputs": [],
   "source": []
  },
  {
   "cell_type": "code",
   "execution_count": null,
   "id": "0c775f07",
   "metadata": {},
   "outputs": [],
   "source": [
    "### Model training\n",
    "import vineyard\n",
    "vineyard_store = vineyard.connect(os.environ['VINEYARD_IPC_SOCKET'])"
   ]
  },
  {
   "cell_type": "code",
   "execution_count": null,
   "id": "1a9f448f",
   "metadata": {},
   "outputs": [],
   "source": [
    "from sklearn.linear_model import LinearRegression\n",
    "\n",
    "training_data = vineyard_store.get('fraud_tutorial_transactions_training_data')\n",
    "\n",
    "# Drop stray nulls\n",
    "training_data.dropna(inplace=True)\n",
    "\n",
    "# Select training matrices\n",
    "X = training_data[[\n",
    "    \"transaction_count_7d\", \n",
    "    \"credit_score\",\n",
    "    'timestamp',\n",
    "]]\n",
    "y = training_data[\"is_fraud\"]\n",
    "\n",
    "# Train a simple SVC model\n",
    "model = LinearRegression()\n",
    "model.fit(X, y)"
   ]
  },
  {
   "cell_type": "code",
   "execution_count": null,
   "id": "4d357adf",
   "metadata": {},
   "outputs": [],
   "source": [
    "# Saving the model to vineyard\n",
    "vineyard_store.put('fraud_tutorial_transactions_sklearn_model', model)"
   ]
  },
  {
   "cell_type": "code",
   "execution_count": null,
   "id": "06385ffe",
   "metadata": {},
   "outputs": [],
   "source": []
  },
  {
   "cell_type": "code",
   "execution_count": null,
   "id": "c3da65a1",
   "metadata": {},
   "outputs": [],
   "source": [
    "#### Infererence using trained model\n",
    "import vineyard\n",
    "vineyard_store = vineyard.connect(os.environ['VINEYARD_IPC_SOCKET'])"
   ]
  },
  {
   "cell_type": "code",
   "execution_count": null,
   "id": "727c054d",
   "metadata": {},
   "outputs": [],
   "source": [
    "# Obtaining the model from vineyard\n",
    "model = vineyard_store.get('fraud_tutorial_transactions_sklearn_model')\n",
    "\n",
    "# Get first two rows of training data\n",
    "dataset = vineyard.io.read(\n",
    "    table='feast-oss.fraud_tutorial.transactions_unknown',\n",
    "    columns=['src_account', 'timestamp', 'is_fraud'])\n",
    "dataset = apply_feature_rules(dataset)\n",
    "\n",
    "# Select a sample\n",
    "samples = dataset.iloc[:2]\n",
    "\n",
    "# Make a test prediction\n",
    "model.predict(samples)"
   ]
  },
  {
   "cell_type": "code",
   "execution_count": null,
   "id": "6197ead3",
   "metadata": {},
   "outputs": [],
   "source": []
  },
  {
   "cell_type": "code",
   "execution_count": null,
   "id": "4dc0da47",
   "metadata": {},
   "outputs": [],
   "source": [
    "#### Infererence using trained model and save results\n",
    "import vineyard"
   ]
  },
  {
   "cell_type": "code",
   "execution_count": null,
   "id": "09a8e825",
   "metadata": {},
   "outputs": [],
   "source": [
    "# Make prediction for all\n",
    "prediction = model.predict(dataset)\n",
    "\n",
    "# write using vineyard's io driver\n",
    "vineyard.io.write(\n",
    "    prediction,\n",
    "    table='feast-oss.fraud_tutorial.transactions_prediction',\n",
    "    columns=['src_account', 'is_fraud'])"
   ]
  },
  {
   "cell_type": "code",
   "execution_count": null,
   "id": "603205f2",
   "metadata": {},
   "outputs": [],
   "source": []
  },
  {
   "cell_type": "code",
   "execution_count": null,
   "id": "c786b92d",
   "metadata": {},
   "outputs": [],
   "source": []
  }
 ],
 "metadata": {
  "kernelspec": {
   "display_name": "Python 3 (ipykernel)",
   "language": "python",
   "name": "python3"
  },
  "language_info": {
   "codemirror_mode": {
    "name": "ipython",
    "version": 3
   },
   "file_extension": ".py",
   "mimetype": "text/x-python",
   "name": "python",
   "nbconvert_exporter": "python",
   "pygments_lexer": "ipython3",
   "version": "3.9.12"
  }
 },
 "nbformat": 4,
 "nbformat_minor": 5
}
